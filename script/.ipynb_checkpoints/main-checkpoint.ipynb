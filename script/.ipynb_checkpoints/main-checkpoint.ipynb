{
 "cells": [
  {
   "cell_type": "markdown",
   "id": "94d6d185",
   "metadata": {},
   "source": [
    "### Importación de librerías"
   ]
  },
  {
   "cell_type": "code",
   "execution_count": 1,
   "id": "216096c6",
   "metadata": {},
   "outputs": [],
   "source": [
    "from sklearn import preprocessing\n",
    "from sklearn.model_selection import train_test_split\n",
    "from sklearn.datasets import make_classification\n",
    "from sklearn.linear_model import LogisticRegressionCV,  LogisticRegression\n",
    "from sklearn.preprocessing import StandardScaler, binarize, MinMaxScaler\n",
    "from sklearn.neighbors import KNeighborsClassifier\n",
    "from sklearn.metrics import accuracy_score, confusion_matrix, recall_score, precision_score, f1_score, roc_curve, auc, classification_report, mean_squared_error\n",
    "from sklearn.pipeline import Pipeline\n",
    "from sklearn import tree\n",
    "from imblearn.over_sampling import RandomOverSampler\n",
    "from imblearn.under_sampling import RandomUnderSampler\n",
    "from sklearn.model_selection import GridSearchCV\n",
    "from sklearn.model_selection import StratifiedKFold\n",
    "from sklearn.ensemble import BaggingClassifier, RandomForestClassifier\n",
    "\n",
    "import matplotlib.pyplot as plt\n",
    "import seaborn as sns\n",
    "import pandas as pd\n",
    "import numpy as np"
   ]
  },
  {
   "cell_type": "markdown",
   "id": "9ea6d308",
   "metadata": {},
   "source": [
    "### Datos de Entrenamiento"
   ]
  },
  {
   "cell_type": "code",
   "execution_count": 2,
   "id": "1ce4d877",
   "metadata": {},
   "outputs": [
    {
     "name": "stderr",
     "output_type": "stream",
     "text": [
      "C:\\Users\\ar037895\\Anaconda3\\envs\\dhdsblend2022\\lib\\site-packages\\IPython\\core\\interactiveshell.py:3194: DtypeWarning: Columns (70) have mixed types.Specify dtype option on import or set low_memory=False.\n",
      "  has_raised = await self.run_ast_nodes(code_ast.body, cell_name,\n"
     ]
    }
   ],
   "source": [
    "ruta_tat = '../data/VENDROS_TAT.csv'\n",
    "ruta_vendors = '../data/VENDORS_NAMES_metrics.csv'\n",
    "\n",
    "data_tat = pd.read_csv(ruta_tat, encoding='UTF-8', sep=',')\n",
    "data_vendors = pd.read_csv(ruta_vendors, encoding='UTF-8', sep=',')"
   ]
  },
  {
   "cell_type": "markdown",
   "id": "aa4edc38",
   "metadata": {},
   "source": [
    "### Imputación de datos"
   ]
  },
  {
   "cell_type": "code",
   "execution_count": 3,
   "id": "3ee7df92",
   "metadata": {},
   "outputs": [],
   "source": [
    "data_tat.dropna(how='all', axis=1)\n",
    "\n",
    "data_tat_filter = data_tat[[\n",
    "    'TAT',\n",
    "    'new_PARTNO',\n",
    "    'new_DESCRIPTION',\n",
    "    'order_number_id',\n",
    "    'order_number',\n",
    "    'order_type',\n",
    "    'order_date',\n",
    "    'address_ship',\n",
    "    'vendor_code',\n",
    "    'shipment',\n",
    "    'priority',\n",
    "    'created_date',\n",
    "    'od_confirmed_date',\n",
    "    'od_req_condition']]\n",
    "\n",
    "data_vendors_filtrado = data_vendors.drop(['COUNT','MEAN_of_TAT','STDEV_of_TAT'], axis=1)\n",
    "\n",
    "ds_complete = data_tat_filter.merge(data_vendors_filtrado, how='left', on='vendor_code')\n",
    "\n",
    "ds_complete.rename(columns={'new_PARTNO':'part_number','new_DESCRIPTION':'description'}, inplace=True)\n",
    "\n",
    "ds_complete['TAT'].fillna(ds_complete.TAT.mean(), inplace=True)\n",
    "\n",
    "ds_complete['shipment'].fillna('--', inplace=True)\n",
    "\n",
    "ds_complete['priority'].fillna('--', inplace=True)\n",
    "\n",
    "ds_complete['address_ship'].fillna('ARG', inplace=True)\n",
    "\n",
    "ds_complete['od_req_condition'].fillna('CA', inplace=True)\n",
    "\n",
    "ds_complete['order_date'] = ds_complete['order_date'].apply(lambda x: pd.to_datetime(x))\n",
    "ds_complete['order_date_year'] = ds_complete['order_date'].apply(lambda x: x.year)\n",
    "ds_complete['order_date_month'] = ds_complete['order_date'].apply(lambda x: x.month)\n",
    "ds_complete['order_date_day'] = ds_complete['order_date'].apply(lambda x: x.day)"
   ]
  },
  {
   "cell_type": "code",
   "execution_count": 4,
   "id": "61172278",
   "metadata": {},
   "outputs": [
    {
     "data": {
      "text/html": [
       "<div>\n",
       "<style scoped>\n",
       "    .dataframe tbody tr th:only-of-type {\n",
       "        vertical-align: middle;\n",
       "    }\n",
       "\n",
       "    .dataframe tbody tr th {\n",
       "        vertical-align: top;\n",
       "    }\n",
       "\n",
       "    .dataframe thead th {\n",
       "        text-align: right;\n",
       "    }\n",
       "</style>\n",
       "<table border=\"1\" class=\"dataframe\">\n",
       "  <thead>\n",
       "    <tr style=\"text-align: right;\">\n",
       "      <th></th>\n",
       "      <th>TAT</th>\n",
       "      <th>part_number</th>\n",
       "      <th>description</th>\n",
       "      <th>order_number_id</th>\n",
       "      <th>order_number</th>\n",
       "      <th>order_type</th>\n",
       "      <th>order_date</th>\n",
       "      <th>address_ship</th>\n",
       "      <th>vendor_code</th>\n",
       "      <th>shipment</th>\n",
       "      <th>priority</th>\n",
       "      <th>created_date</th>\n",
       "      <th>od_confirmed_date</th>\n",
       "      <th>od_req_condition</th>\n",
       "      <th>vendor_name</th>\n",
       "      <th>order_date_year</th>\n",
       "      <th>order_date_month</th>\n",
       "      <th>order_date_day</th>\n",
       "    </tr>\n",
       "  </thead>\n",
       "  <tbody>\n",
       "    <tr>\n",
       "      <th>3819</th>\n",
       "      <td>150.0</td>\n",
       "      <td>75111792</td>\n",
       "      <td>CALIBRE</td>\n",
       "      <td>105409</td>\n",
       "      <td>R3314719</td>\n",
       "      <td>R</td>\n",
       "      <td>2019-08-12</td>\n",
       "      <td>AR0650</td>\n",
       "      <td>AR0011</td>\n",
       "      <td>--</td>\n",
       "      <td>RTN</td>\n",
       "      <td>2019-08-12 00:00:00</td>\n",
       "      <td>2019-11-15 00:00:00</td>\n",
       "      <td>CA</td>\n",
       "      <td>RUBEN HUGO COPPOLA E HIJOS SRL</td>\n",
       "      <td>2019</td>\n",
       "      <td>8</td>\n",
       "      <td>12</td>\n",
       "    </tr>\n",
       "    <tr>\n",
       "      <th>10818</th>\n",
       "      <td>5.0</td>\n",
       "      <td>VDE 4508-02</td>\n",
       "      <td>TORQUIMETRO AISLADO</td>\n",
       "      <td>199746</td>\n",
       "      <td>R1379322</td>\n",
       "      <td>R</td>\n",
       "      <td>2022-06-03</td>\n",
       "      <td>ADUANA-EZE</td>\n",
       "      <td>US0962</td>\n",
       "      <td>F3</td>\n",
       "      <td>RTN</td>\n",
       "      <td>2022-06-03 00:00:00</td>\n",
       "      <td>2022-11-10 00:00:00</td>\n",
       "      <td>CA</td>\n",
       "      <td>UMT CALIBRATION LABORATORY</td>\n",
       "      <td>2022</td>\n",
       "      <td>6</td>\n",
       "      <td>3</td>\n",
       "    </tr>\n",
       "    <tr>\n",
       "      <th>3906</th>\n",
       "      <td>13.0</td>\n",
       "      <td>25-441</td>\n",
       "      <td>COMPARADOR</td>\n",
       "      <td>148505</td>\n",
       "      <td>R1601020</td>\n",
       "      <td>R</td>\n",
       "      <td>2020-09-22</td>\n",
       "      <td>AR0650</td>\n",
       "      <td>AR0011</td>\n",
       "      <td>--</td>\n",
       "      <td>RTN</td>\n",
       "      <td>2020-09-22 00:00:00</td>\n",
       "      <td>2020-11-25 00:00:00</td>\n",
       "      <td>CA</td>\n",
       "      <td>RUBEN HUGO COPPOLA E HIJOS SRL</td>\n",
       "      <td>2020</td>\n",
       "      <td>9</td>\n",
       "      <td>22</td>\n",
       "    </tr>\n",
       "  </tbody>\n",
       "</table>\n",
       "</div>"
      ],
      "text/plain": [
       "         TAT  part_number          description  order_number_id order_number  \\\n",
       "3819   150.0     75111792              CALIBRE           105409     R3314719   \n",
       "10818    5.0  VDE 4508-02  TORQUIMETRO AISLADO           199746     R1379322   \n",
       "3906    13.0       25-441           COMPARADOR           148505     R1601020   \n",
       "\n",
       "      order_type order_date address_ship vendor_code shipment priority  \\\n",
       "3819           R 2019-08-12       AR0650      AR0011       --      RTN   \n",
       "10818          R 2022-06-03   ADUANA-EZE      US0962       F3      RTN   \n",
       "3906           R 2020-09-22       AR0650      AR0011       --      RTN   \n",
       "\n",
       "              created_date    od_confirmed_date od_req_condition  \\\n",
       "3819   2019-08-12 00:00:00  2019-11-15 00:00:00               CA   \n",
       "10818  2022-06-03 00:00:00  2022-11-10 00:00:00               CA   \n",
       "3906   2020-09-22 00:00:00  2020-11-25 00:00:00               CA   \n",
       "\n",
       "                          vendor_name  order_date_year  order_date_month  \\\n",
       "3819   RUBEN HUGO COPPOLA E HIJOS SRL             2019                 8   \n",
       "10818      UMT CALIBRATION LABORATORY             2022                 6   \n",
       "3906   RUBEN HUGO COPPOLA E HIJOS SRL             2020                 9   \n",
       "\n",
       "       order_date_day  \n",
       "3819               12  \n",
       "10818               3  \n",
       "3906               22  "
      ]
     },
     "execution_count": 4,
     "metadata": {},
     "output_type": "execute_result"
    }
   ],
   "source": [
    "ds_complete.sample(3)"
   ]
  },
  {
   "cell_type": "code",
   "execution_count": 5,
   "id": "2b7883ef",
   "metadata": {},
   "outputs": [],
   "source": [
    "ds_complete['date_arrive'] = ds_complete.apply(lambda x: x.order_date + pd.Timedelta(x.TAT, unit='D'), axis=1)"
   ]
  },
  {
   "cell_type": "code",
   "execution_count": 6,
   "id": "5c2f47cf",
   "metadata": {},
   "outputs": [],
   "source": [
    "def  mag_identify(desc):\n",
    "    if 'TORQUIMETRO'in desc or 'TORQUÍMETRO' in desc:\n",
    "        desc = 'TORQUE'\n",
    "    elif 'DINAM' in desc or 'CALIBRE' in desc or 'NIVEL' in desc or 'PENETRADOR' in desc or 'MICROMETRO'in desc or 'MICRÓMETRO' in desc or 'MANDRILADORA' in desc or 'SONDAS' in desc or 'DUROMETRO' in desc or 'PARALELA' in desc or 'BALANZA' in desc or 'COMPARADOR' in desc or 'CINTA' in desc or 'DUROM' in desc or 'CRIMPING' in desc or 'DUREZA' in desc or 'PLANO' in desc or 'ALESOM' in desc or 'ALESAM' in desc:\n",
    "        desc = 'DIMENSIONAL'\n",
    "    elif 'MANOMETRO'in desc or 'MANÓMETRO' in desc or 'VACU' in desc or 'PRESSURE' in desc:\n",
    "        desc = 'PRESIÓN'\n",
    "    elif 'TEMP' in desc or 'TERMO' in desc or 'HORNO' in desc or 'THERMOM' in desc:\n",
    "        desc = 'TEMPERATURA'\n",
    "    elif 'MEGOHM' in desc or 'ELECTRICIDAD' in desc or 'MULTIM' in desc or 'FUENTE' in desc or 'VOLTI' in desc or 'GAUSS' in desc or 'OHMMETER' in desc or 'AMPER' in desc or 'RESIS' in desc or 'CELDA' in desc or 'CRONO' in desc or 'DECADA' in desc or 'MEGOHMETRO' in desc or 'MILIOHM' in desc:\n",
    "        desc = 'ELECTRICIDAD'\n",
    "    elif 'BORO' in desc or 'EDDY' in desc or 'ULTRASON' in desc:\n",
    "        desc = 'NDT'\n",
    "    elif 'TEMPO' in desc or 'TIEMPO' in desc or 'CRONOM' in desc:\n",
    "        desc = 'TIEMPO'\n",
    "    elif 'FLUJO' in desc or 'FLOW' in desc:\n",
    "        desc = 'FLUJO'\n",
    "    elif 'PESA' in desc or 'BALANZA' in desc:\n",
    "        desc = 'MASA'\n",
    "    else:\n",
    "        desc = 'OTROS'\n",
    "    return desc"
   ]
  },
  {
   "cell_type": "code",
   "execution_count": 7,
   "id": "11fb9828",
   "metadata": {},
   "outputs": [],
   "source": [
    "ds_complete['magnitud'] = ds_complete['description'].apply(lambda x: mag_identify(x))"
   ]
  },
  {
   "cell_type": "code",
   "execution_count": 8,
   "id": "c35522bc",
   "metadata": {},
   "outputs": [],
   "source": [
    "ds_complete['on_time'] = ds_complete['TAT'].apply(lambda x: 1 if x <= 45 else 0)"
   ]
  },
  {
   "cell_type": "code",
   "execution_count": 9,
   "id": "80fc6118",
   "metadata": {},
   "outputs": [
    {
     "data": {
      "text/plain": [
       "(14955, 21)"
      ]
     },
     "execution_count": 9,
     "metadata": {},
     "output_type": "execute_result"
    }
   ],
   "source": [
    "ds_complete.shape"
   ]
  },
  {
   "cell_type": "code",
   "execution_count": 10,
   "id": "f30c78ff",
   "metadata": {},
   "outputs": [
    {
     "data": {
      "text/html": [
       "<div>\n",
       "<style scoped>\n",
       "    .dataframe tbody tr th:only-of-type {\n",
       "        vertical-align: middle;\n",
       "    }\n",
       "\n",
       "    .dataframe tbody tr th {\n",
       "        vertical-align: top;\n",
       "    }\n",
       "\n",
       "    .dataframe thead th {\n",
       "        text-align: right;\n",
       "    }\n",
       "</style>\n",
       "<table border=\"1\" class=\"dataframe\">\n",
       "  <thead>\n",
       "    <tr style=\"text-align: right;\">\n",
       "      <th></th>\n",
       "      <th>TAT</th>\n",
       "      <th>part_number</th>\n",
       "      <th>description</th>\n",
       "      <th>order_number_id</th>\n",
       "      <th>order_number</th>\n",
       "      <th>order_type</th>\n",
       "      <th>order_date</th>\n",
       "      <th>address_ship</th>\n",
       "      <th>vendor_code</th>\n",
       "      <th>shipment</th>\n",
       "      <th>...</th>\n",
       "      <th>created_date</th>\n",
       "      <th>od_confirmed_date</th>\n",
       "      <th>od_req_condition</th>\n",
       "      <th>vendor_name</th>\n",
       "      <th>order_date_year</th>\n",
       "      <th>order_date_month</th>\n",
       "      <th>order_date_day</th>\n",
       "      <th>date_arrive</th>\n",
       "      <th>magnitud</th>\n",
       "      <th>on_time</th>\n",
       "    </tr>\n",
       "  </thead>\n",
       "  <tbody>\n",
       "    <tr>\n",
       "      <th>0</th>\n",
       "      <td>12.0</td>\n",
       "      <td>879B</td>\n",
       "      <td>LCR METER</td>\n",
       "      <td>47613</td>\n",
       "      <td>R0017144TRF</td>\n",
       "      <td>R</td>\n",
       "      <td>2018-08-08</td>\n",
       "      <td>AEP</td>\n",
       "      <td>0NUU5</td>\n",
       "      <td>--</td>\n",
       "      <td>...</td>\n",
       "      <td>2018-08-31 00:00:00</td>\n",
       "      <td>0</td>\n",
       "      <td>CA</td>\n",
       "      <td>BROADVIEW INSTRUMENTATION SERV</td>\n",
       "      <td>2018</td>\n",
       "      <td>8</td>\n",
       "      <td>8</td>\n",
       "      <td>2018-08-20</td>\n",
       "      <td>OTROS</td>\n",
       "      <td>1</td>\n",
       "    </tr>\n",
       "    <tr>\n",
       "      <th>1</th>\n",
       "      <td>33.0</td>\n",
       "      <td>AP-2703</td>\n",
       "      <td>DINAMOMETRO</td>\n",
       "      <td>62347</td>\n",
       "      <td>R0285318</td>\n",
       "      <td>R</td>\n",
       "      <td>2018-10-03</td>\n",
       "      <td>ARG</td>\n",
       "      <td>AR0011</td>\n",
       "      <td>--</td>\n",
       "      <td>...</td>\n",
       "      <td>2018-10-03 00:00:00</td>\n",
       "      <td>0</td>\n",
       "      <td>CA</td>\n",
       "      <td>RUBEN HUGO COPPOLA E HIJOS SRL</td>\n",
       "      <td>2018</td>\n",
       "      <td>10</td>\n",
       "      <td>3</td>\n",
       "      <td>2018-11-05</td>\n",
       "      <td>DIMENSIONAL</td>\n",
       "      <td>1</td>\n",
       "    </tr>\n",
       "    <tr>\n",
       "      <th>2</th>\n",
       "      <td>4.0</td>\n",
       "      <td>L10</td>\n",
       "      <td>DINAMOMETRO</td>\n",
       "      <td>67713</td>\n",
       "      <td>R0667118</td>\n",
       "      <td>R</td>\n",
       "      <td>2018-11-12</td>\n",
       "      <td>ARG</td>\n",
       "      <td>AR0011</td>\n",
       "      <td>--</td>\n",
       "      <td>...</td>\n",
       "      <td>2018-11-12 00:00:00</td>\n",
       "      <td>0</td>\n",
       "      <td>CA</td>\n",
       "      <td>RUBEN HUGO COPPOLA E HIJOS SRL</td>\n",
       "      <td>2018</td>\n",
       "      <td>11</td>\n",
       "      <td>12</td>\n",
       "      <td>2018-11-16</td>\n",
       "      <td>DIMENSIONAL</td>\n",
       "      <td>1</td>\n",
       "    </tr>\n",
       "    <tr>\n",
       "      <th>3</th>\n",
       "      <td>18.0</td>\n",
       "      <td>3277705.</td>\n",
       "      <td>DINAMOMETRO</td>\n",
       "      <td>74221</td>\n",
       "      <td>R1102719</td>\n",
       "      <td>R</td>\n",
       "      <td>2019-01-07</td>\n",
       "      <td>ARG</td>\n",
       "      <td>AR0011</td>\n",
       "      <td>--</td>\n",
       "      <td>...</td>\n",
       "      <td>2019-01-05 00:00:00</td>\n",
       "      <td>0</td>\n",
       "      <td>CA</td>\n",
       "      <td>RUBEN HUGO COPPOLA E HIJOS SRL</td>\n",
       "      <td>2019</td>\n",
       "      <td>1</td>\n",
       "      <td>7</td>\n",
       "      <td>2019-01-25</td>\n",
       "      <td>DIMENSIONAL</td>\n",
       "      <td>1</td>\n",
       "    </tr>\n",
       "    <tr>\n",
       "      <th>4</th>\n",
       "      <td>6.0</td>\n",
       "      <td>7034-5</td>\n",
       "      <td>COMPARADOR</td>\n",
       "      <td>76276</td>\n",
       "      <td>R1251719</td>\n",
       "      <td>R</td>\n",
       "      <td>2019-01-21</td>\n",
       "      <td>ARG</td>\n",
       "      <td>AR0011</td>\n",
       "      <td>--</td>\n",
       "      <td>...</td>\n",
       "      <td>2019-01-19 00:00:00</td>\n",
       "      <td>0</td>\n",
       "      <td>CA</td>\n",
       "      <td>RUBEN HUGO COPPOLA E HIJOS SRL</td>\n",
       "      <td>2019</td>\n",
       "      <td>1</td>\n",
       "      <td>21</td>\n",
       "      <td>2019-01-27</td>\n",
       "      <td>DIMENSIONAL</td>\n",
       "      <td>1</td>\n",
       "    </tr>\n",
       "    <tr>\n",
       "      <th>...</th>\n",
       "      <td>...</td>\n",
       "      <td>...</td>\n",
       "      <td>...</td>\n",
       "      <td>...</td>\n",
       "      <td>...</td>\n",
       "      <td>...</td>\n",
       "      <td>...</td>\n",
       "      <td>...</td>\n",
       "      <td>...</td>\n",
       "      <td>...</td>\n",
       "      <td>...</td>\n",
       "      <td>...</td>\n",
       "      <td>...</td>\n",
       "      <td>...</td>\n",
       "      <td>...</td>\n",
       "      <td>...</td>\n",
       "      <td>...</td>\n",
       "      <td>...</td>\n",
       "      <td>...</td>\n",
       "      <td>...</td>\n",
       "      <td>...</td>\n",
       "    </tr>\n",
       "    <tr>\n",
       "      <th>14950</th>\n",
       "      <td>37.0</td>\n",
       "      <td>33-215</td>\n",
       "      <td>CINTA METRICA DE 3.5 MTS/12</td>\n",
       "      <td>221104</td>\n",
       "      <td>R3023322</td>\n",
       "      <td>R</td>\n",
       "      <td>2022-11-30</td>\n",
       "      <td>AR0650</td>\n",
       "      <td>AR0011</td>\n",
       "      <td>--</td>\n",
       "      <td>...</td>\n",
       "      <td>2022-11-30 00:00:00</td>\n",
       "      <td>0</td>\n",
       "      <td>CA</td>\n",
       "      <td>RUBEN HUGO COPPOLA E HIJOS SRL</td>\n",
       "      <td>2022</td>\n",
       "      <td>11</td>\n",
       "      <td>30</td>\n",
       "      <td>2023-01-06</td>\n",
       "      <td>DIMENSIONAL</td>\n",
       "      <td>1</td>\n",
       "    </tr>\n",
       "    <tr>\n",
       "      <th>14951</th>\n",
       "      <td>6.0</td>\n",
       "      <td>4000 KG</td>\n",
       "      <td>DINAMOMETRO</td>\n",
       "      <td>222035</td>\n",
       "      <td>R3095022</td>\n",
       "      <td>R</td>\n",
       "      <td>2022-12-07</td>\n",
       "      <td>AR0650</td>\n",
       "      <td>AR0011</td>\n",
       "      <td>--</td>\n",
       "      <td>...</td>\n",
       "      <td>2022-12-07 00:00:00</td>\n",
       "      <td>2023-03-09 00:00:00</td>\n",
       "      <td>CA</td>\n",
       "      <td>RUBEN HUGO COPPOLA E HIJOS SRL</td>\n",
       "      <td>2022</td>\n",
       "      <td>12</td>\n",
       "      <td>7</td>\n",
       "      <td>2022-12-13</td>\n",
       "      <td>DIMENSIONAL</td>\n",
       "      <td>1</td>\n",
       "    </tr>\n",
       "    <tr>\n",
       "      <th>14952</th>\n",
       "      <td>3.0</td>\n",
       "      <td>.800IN</td>\n",
       "      <td>MICROMETRO DE INTERIOR AXIAL</td>\n",
       "      <td>227645</td>\n",
       "      <td>R0259923</td>\n",
       "      <td>R</td>\n",
       "      <td>2023-01-31</td>\n",
       "      <td>AR0650</td>\n",
       "      <td>AR0002</td>\n",
       "      <td>--</td>\n",
       "      <td>...</td>\n",
       "      <td>2023-01-31 00:00:00</td>\n",
       "      <td>0</td>\n",
       "      <td>CA</td>\n",
       "      <td>MITUTOYO SUL AMERICANA LTDA.</td>\n",
       "      <td>2023</td>\n",
       "      <td>1</td>\n",
       "      <td>31</td>\n",
       "      <td>2023-02-03</td>\n",
       "      <td>DIMENSIONAL</td>\n",
       "      <td>1</td>\n",
       "    </tr>\n",
       "    <tr>\n",
       "      <th>14953</th>\n",
       "      <td>8.0</td>\n",
       "      <td>M22520/1-01</td>\n",
       "      <td>MANDRILADORA PINES DANIELS</td>\n",
       "      <td>229035</td>\n",
       "      <td>R0369923</td>\n",
       "      <td>R</td>\n",
       "      <td>2023-02-13</td>\n",
       "      <td>ADUANA-EZE</td>\n",
       "      <td>7VKY4</td>\n",
       "      <td>F3</td>\n",
       "      <td>...</td>\n",
       "      <td>2023-02-13 00:00:00</td>\n",
       "      <td>0</td>\n",
       "      <td>CA</td>\n",
       "      <td>AVC LABORATORY</td>\n",
       "      <td>2023</td>\n",
       "      <td>2</td>\n",
       "      <td>13</td>\n",
       "      <td>2023-02-21</td>\n",
       "      <td>DIMENSIONAL</td>\n",
       "      <td>1</td>\n",
       "    </tr>\n",
       "    <tr>\n",
       "      <th>14954</th>\n",
       "      <td>19.0</td>\n",
       "      <td>M22520/1-01</td>\n",
       "      <td>MANDRILADORA PINES DANIELS</td>\n",
       "      <td>229035</td>\n",
       "      <td>R0369923</td>\n",
       "      <td>R</td>\n",
       "      <td>2023-02-13</td>\n",
       "      <td>ADUANA-EZE</td>\n",
       "      <td>7VKY4</td>\n",
       "      <td>F3</td>\n",
       "      <td>...</td>\n",
       "      <td>2023-02-13 00:00:00</td>\n",
       "      <td>0</td>\n",
       "      <td>CA</td>\n",
       "      <td>AVC LABORATORY</td>\n",
       "      <td>2023</td>\n",
       "      <td>2</td>\n",
       "      <td>13</td>\n",
       "      <td>2023-03-04</td>\n",
       "      <td>DIMENSIONAL</td>\n",
       "      <td>1</td>\n",
       "    </tr>\n",
       "  </tbody>\n",
       "</table>\n",
       "<p>14955 rows × 21 columns</p>\n",
       "</div>"
      ],
      "text/plain": [
       "        TAT  part_number                   description  order_number_id  \\\n",
       "0      12.0         879B                     LCR METER            47613   \n",
       "1      33.0      AP-2703                   DINAMOMETRO            62347   \n",
       "2       4.0          L10                   DINAMOMETRO            67713   \n",
       "3      18.0     3277705.                   DINAMOMETRO            74221   \n",
       "4       6.0       7034-5                    COMPARADOR            76276   \n",
       "...     ...          ...                           ...              ...   \n",
       "14950  37.0       33-215   CINTA METRICA DE 3.5 MTS/12           221104   \n",
       "14951   6.0      4000 KG                   DINAMOMETRO           222035   \n",
       "14952   3.0       .800IN  MICROMETRO DE INTERIOR AXIAL           227645   \n",
       "14953   8.0  M22520/1-01    MANDRILADORA PINES DANIELS           229035   \n",
       "14954  19.0  M22520/1-01    MANDRILADORA PINES DANIELS           229035   \n",
       "\n",
       "      order_number order_type order_date address_ship vendor_code shipment  \\\n",
       "0      R0017144TRF          R 2018-08-08          AEP       0NUU5       --   \n",
       "1         R0285318          R 2018-10-03          ARG      AR0011       --   \n",
       "2         R0667118          R 2018-11-12          ARG      AR0011       --   \n",
       "3         R1102719          R 2019-01-07          ARG      AR0011       --   \n",
       "4         R1251719          R 2019-01-21          ARG      AR0011       --   \n",
       "...            ...        ...        ...          ...         ...      ...   \n",
       "14950     R3023322          R 2022-11-30       AR0650      AR0011       --   \n",
       "14951     R3095022          R 2022-12-07       AR0650      AR0011       --   \n",
       "14952     R0259923          R 2023-01-31       AR0650      AR0002       --   \n",
       "14953     R0369923          R 2023-02-13   ADUANA-EZE       7VKY4       F3   \n",
       "14954     R0369923          R 2023-02-13   ADUANA-EZE       7VKY4       F3   \n",
       "\n",
       "       ...         created_date    od_confirmed_date od_req_condition  \\\n",
       "0      ...  2018-08-31 00:00:00                    0               CA   \n",
       "1      ...  2018-10-03 00:00:00                    0               CA   \n",
       "2      ...  2018-11-12 00:00:00                    0               CA   \n",
       "3      ...  2019-01-05 00:00:00                    0               CA   \n",
       "4      ...  2019-01-19 00:00:00                    0               CA   \n",
       "...    ...                  ...                  ...              ...   \n",
       "14950  ...  2022-11-30 00:00:00                    0               CA   \n",
       "14951  ...  2022-12-07 00:00:00  2023-03-09 00:00:00               CA   \n",
       "14952  ...  2023-01-31 00:00:00                    0               CA   \n",
       "14953  ...  2023-02-13 00:00:00                    0               CA   \n",
       "14954  ...  2023-02-13 00:00:00                    0               CA   \n",
       "\n",
       "                          vendor_name order_date_year  order_date_month  \\\n",
       "0      BROADVIEW INSTRUMENTATION SERV            2018                 8   \n",
       "1      RUBEN HUGO COPPOLA E HIJOS SRL            2018                10   \n",
       "2      RUBEN HUGO COPPOLA E HIJOS SRL            2018                11   \n",
       "3      RUBEN HUGO COPPOLA E HIJOS SRL            2019                 1   \n",
       "4      RUBEN HUGO COPPOLA E HIJOS SRL            2019                 1   \n",
       "...                               ...             ...               ...   \n",
       "14950  RUBEN HUGO COPPOLA E HIJOS SRL            2022                11   \n",
       "14951  RUBEN HUGO COPPOLA E HIJOS SRL            2022                12   \n",
       "14952    MITUTOYO SUL AMERICANA LTDA.            2023                 1   \n",
       "14953                  AVC LABORATORY            2023                 2   \n",
       "14954                  AVC LABORATORY            2023                 2   \n",
       "\n",
       "       order_date_day  date_arrive     magnitud on_time  \n",
       "0                   8   2018-08-20        OTROS       1  \n",
       "1                   3   2018-11-05  DIMENSIONAL       1  \n",
       "2                  12   2018-11-16  DIMENSIONAL       1  \n",
       "3                   7   2019-01-25  DIMENSIONAL       1  \n",
       "4                  21   2019-01-27  DIMENSIONAL       1  \n",
       "...               ...          ...          ...     ...  \n",
       "14950              30   2023-01-06  DIMENSIONAL       1  \n",
       "14951               7   2022-12-13  DIMENSIONAL       1  \n",
       "14952              31   2023-02-03  DIMENSIONAL       1  \n",
       "14953              13   2023-02-21  DIMENSIONAL       1  \n",
       "14954              13   2023-03-04  DIMENSIONAL       1  \n",
       "\n",
       "[14955 rows x 21 columns]"
      ]
     },
     "execution_count": 10,
     "metadata": {},
     "output_type": "execute_result"
    }
   ],
   "source": [
    "ds_complete"
   ]
  },
  {
   "cell_type": "markdown",
   "id": "8e834424",
   "metadata": {},
   "source": [
    "### Dummies"
   ]
  },
  {
   "cell_type": "code",
   "execution_count": 11,
   "id": "cb8dcbad",
   "metadata": {},
   "outputs": [],
   "source": [
    "features_categoricas = ['magnitud', 'order_type', 'address_ship', 'shipment', 'priority', 'vendor_name']\n",
    "\n",
    "ds_dummies = pd.get_dummies(ds_complete[features_categoricas], drop_first=True)"
   ]
  },
  {
   "cell_type": "code",
   "execution_count": 12,
   "id": "60c1f6cd",
   "metadata": {},
   "outputs": [
    {
     "data": {
      "text/plain": [
       "(14955, 275)"
      ]
     },
     "execution_count": 12,
     "metadata": {},
     "output_type": "execute_result"
    }
   ],
   "source": [
    "features_numericas = ['order_date_year', 'order_date_month', 'order_date_day']\n",
    "\n",
    "ds_final = pd.concat([ds_complete[features_numericas], ds_dummies], axis=1)\n",
    "ds_final.shape"
   ]
  },
  {
   "cell_type": "markdown",
   "id": "99a8ca4b",
   "metadata": {},
   "source": [
    "### Split"
   ]
  },
  {
   "cell_type": "code",
   "execution_count": 17,
   "id": "ad4fca77",
   "metadata": {},
   "outputs": [],
   "source": [
    "X = ds_final\n",
    "y = ds_complete['on_time']\n",
    "\n",
    "X_train, X_test, y_train, y_test = train_test_split(X, y, test_size=0.3, random_state=12)"
   ]
  },
  {
   "cell_type": "markdown",
   "id": "0abdf5d2",
   "metadata": {},
   "source": [
    "y_trainndersample"
   ]
  },
  {
   "cell_type": "markdown",
   "id": "eaa3b0ea",
   "metadata": {},
   "source": [
    "### Pipiline comparativo"
   ]
  },
  {
   "cell_type": "code",
   "execution_count": 18,
   "id": "83fcc277",
   "metadata": {},
   "outputs": [],
   "source": [
    "steps_1 = [('scaler', StandardScaler()),\n",
    "         ('knn',KNeighborsClassifier())]"
   ]
  },
  {
   "cell_type": "code",
   "execution_count": 19,
   "id": "f27394ba",
   "metadata": {},
   "outputs": [],
   "source": [
    "pipe_1 = Pipeline(steps_1)"
   ]
  },
  {
   "cell_type": "code",
   "execution_count": 26,
   "id": "4bb6eb62",
   "metadata": {},
   "outputs": [],
   "source": [
    "folds = StratifiedKFold(n_splits=5,shuffle=True, random_state=42)"
   ]
  },
  {
   "cell_type": "code",
   "execution_count": 32,
   "id": "85f905c3",
   "metadata": {},
   "outputs": [],
   "source": [
    "param_grid = {'scaler':[StandardScaler(), MinMaxScaler()],\n",
    "               'knn__n_neighbors':range(2,20,2), 'knn__weights':['uniform','distance']}\n",
    "\n",
    "grid = GridSearchCV(pipe_1, param_grid, cv=folds)"
   ]
  },
  {
   "cell_type": "code",
   "execution_count": 33,
   "id": "063fd91b",
   "metadata": {},
   "outputs": [
    {
     "data": {
      "text/plain": [
       "GridSearchCV(cv=StratifiedKFold(n_splits=5, random_state=42, shuffle=True),\n",
       "             estimator=Pipeline(steps=[('scaler', StandardScaler()),\n",
       "                                       ('knn', KNeighborsClassifier())]),\n",
       "             param_grid={'knn__n_neighbors': range(2, 20, 2),\n",
       "                         'knn__weights': ['uniform', 'distance'],\n",
       "                         'scaler': [StandardScaler(), MinMaxScaler()]})"
      ]
     },
     "execution_count": 33,
     "metadata": {},
     "output_type": "execute_result"
    }
   ],
   "source": [
    "grid.fit(X_train, y_train)"
   ]
  },
  {
   "cell_type": "code",
   "execution_count": 36,
   "id": "ecbe4dd1",
   "metadata": {},
   "outputs": [
    {
     "data": {
      "text/plain": [
       "{'knn__n_neighbors': 18,\n",
       " 'knn__weights': 'distance',\n",
       " 'scaler': StandardScaler()}"
      ]
     },
     "execution_count": 36,
     "metadata": {},
     "output_type": "execute_result"
    }
   ],
   "source": [
    "grid.best_params_"
   ]
  },
  {
   "cell_type": "code",
   "execution_count": 37,
   "id": "5cf91d83",
   "metadata": {},
   "outputs": [
    {
     "data": {
      "text/plain": [
       "0.7431224105822337"
      ]
     },
     "execution_count": 37,
     "metadata": {},
     "output_type": "execute_result"
    }
   ],
   "source": [
    "grid.best_score_"
   ]
  },
  {
   "cell_type": "code",
   "execution_count": 40,
   "id": "8cddc6a8",
   "metadata": {},
   "outputs": [
    {
     "name": "stdout",
     "output_type": "stream",
     "text": [
      "[[1160  556]\n",
      " [ 565 2206]]\n"
     ]
    }
   ],
   "source": [
    "y_pred_pipe_1 = grid.best_estimator_.predict(X_test)\n",
    "cm_pipe_1 =  confusion_matrix(y_test, y_pred_pipe_1)\n",
    "print(cm_pipe_1)"
   ]
  },
  {
   "cell_type": "code",
   "execution_count": 46,
   "id": "ba71f6dc",
   "metadata": {},
   "outputs": [],
   "source": [
    "steps_2 = [('scaler', StandardScaler()),\n",
    "         ('ensamble',RandomForestClassifier( \n",
    "                                      bootstrap=True, \n",
    "                                      n_jobs = -1, \n",
    "                                      random_state = 127,\n",
    "                                      max_samples= 0.3))]\n",
    "\n",
    "pipe_2 = Pipeline(steps_2)"
   ]
  },
  {
   "cell_type": "code",
   "execution_count": 47,
   "id": "32830a73",
   "metadata": {},
   "outputs": [],
   "source": [
    "param_grid_pipe_2 = {'scaler':[StandardScaler(), MinMaxScaler(), None],\n",
    "               'ensamble__n_estimators':range(50,100,10), 'ensamble__max_depth':range(2,10,1)}\n",
    "\n",
    "grid_2 = GridSearchCV(pipe_1, param_grid, cv=folds)"
   ]
  },
  {
   "cell_type": "code",
   "execution_count": null,
   "id": "bd11218a",
   "metadata": {},
   "outputs": [],
   "source": [
    "grid_2.fit(X_train, y_train)"
   ]
  },
  {
   "cell_type": "code",
   "execution_count": null,
   "id": "d69d3253",
   "metadata": {},
   "outputs": [],
   "source": [
    "grid_2.best_estimator_"
   ]
  },
  {
   "cell_type": "code",
   "execution_count": null,
   "id": "3a750d53",
   "metadata": {},
   "outputs": [],
   "source": [
    "grid_2.best_estimator_.score(X_test,y_test)"
   ]
  },
  {
   "cell_type": "code",
   "execution_count": null,
   "id": "383b3708",
   "metadata": {},
   "outputs": [],
   "source": []
  },
  {
   "cell_type": "code",
   "execution_count": 44,
   "id": "f897f192",
   "metadata": {},
   "outputs": [
    {
     "data": {
      "text/plain": [
       "0.38020949409404947"
      ]
     },
     "execution_count": 44,
     "metadata": {},
     "output_type": "execute_result"
    }
   ],
   "source": [
    "mean_squared_error(y_test, pipe_2.predict(X_test))"
   ]
  },
  {
   "cell_type": "code",
   "execution_count": null,
   "id": "f70618bd",
   "metadata": {},
   "outputs": [],
   "source": []
  }
 ],
 "metadata": {
  "kernelspec": {
   "display_name": "Python [conda env:dhdsblend2022] *",
   "language": "python",
   "name": "conda-env-dhdsblend2022-py"
  },
  "language_info": {
   "codemirror_mode": {
    "name": "ipython",
    "version": 3
   },
   "file_extension": ".py",
   "mimetype": "text/x-python",
   "name": "python",
   "nbconvert_exporter": "python",
   "pygments_lexer": "ipython3",
   "version": "3.8.15"
  }
 },
 "nbformat": 4,
 "nbformat_minor": 5
}
